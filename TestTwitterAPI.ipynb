{
 "cells": [
  {
   "cell_type": "code",
   "execution_count": 5,
   "metadata": {},
   "outputs": [
    {
     "name": "stdout",
     "output_type": "stream",
     "text": [
      "The autoreload extension is already loaded. To reload it, use:\n",
      "  %reload_ext autoreload\n"
     ]
    }
   ],
   "source": [
    "%load_ext autoreload\n",
    "%autoreload 2\n",
    "import os\n",
    "import sys\n",
    "sys.path.append(\"src\")\n",
    "sys.path.append(\"../fast-style-transfer/\")\n",
    "sys.path.append(\"../fast-style-transfer/src\")\n",
    "from miles_utils import getMilesTweets, random_style_transfer\n",
    "\n",
    "\n",
    "import tweepy\n",
    "import pandas as pd"
   ]
  },
  {
   "cell_type": "code",
   "execution_count": 6,
   "metadata": {
    "scrolled": true
   },
   "outputs": [
    {
     "name": "stdout",
     "output_type": "stream",
     "text": [
      "downloading http://pbs.twimg.com/media/Efo11UvXkAcR-UP.jpg\n",
      "100% [............................................................................] 247594 / 247594downloading http://pbs.twimg.com/media/EgboOXGUYAMSNBS.jpg\n",
      "100% [............................................................................] 285493 / 285493downloading http://pbs.twimg.com/media/EgSOaC_XYAIiL7f.jpg\n",
      "100% [............................................................................] 289907 / 289907downloading http://pbs.twimg.com/media/EfbR4ESWoAIqc7a.jpg\n",
      "100% [............................................................................] 193239 / 193239downloading http://pbs.twimg.com/media/EfiqsWoXgAAInIA.jpg\n",
      "100% [............................................................................] 259520 / 259520downloading http://pbs.twimg.com/media/EfKKKXlWoAEY9FU.jpg\n",
      "100% [............................................................................] 358528 / 358528downloading http://pbs.twimg.com/media/EgT4x2DXYAY7Y7W.jpg\n",
      "100% [............................................................................] 237720 / 237720downloading http://pbs.twimg.com/media/EgWkM0KWkAAtWAQ.jpg\n",
      "100% [............................................................................] 258471 / 258471downloading http://pbs.twimg.com/media/EfleHBAXoAIy7VC.jpg\n",
      "100% [............................................................................] 178223 / 178223downloading http://pbs.twimg.com/media/EfU0Ob0XYAA09po.jpg\n",
      "100% [............................................................................] 313029 / 313029downloading http://pbs.twimg.com/media/Efa69jOWkAQWe2c.jpg\n",
      "100% [............................................................................] 222938 / 222938downloading http://pbs.twimg.com/media/EgRgHBQVAAo8RXK.jpg\n",
      "100% [............................................................................] 247003 / 247003downloading http://pbs.twimg.com/media/EfV3p23XYAEcwz4.jpg\n",
      "100% [............................................................................] 206414 / 206414downloading http://pbs.twimg.com/media/EfYy5rnXYAEFraz.jpg\n",
      "100% [............................................................................] 319314 / 319314downloading http://pbs.twimg.com/media/Eghtu31UwAA-562.jpg\n",
      "100% [............................................................................] 233593 / 233593downloading http://pbs.twimg.com/media/EfewlQzXsAEH9g7.jpg\n",
      "100% [............................................................................] 177330 / 177330downloading http://pbs.twimg.com/media/EgRykMeXsAATksC.jpg\n",
      "100% [............................................................................] 261377 / 261377downloading http://pbs.twimg.com/media/EflifWBXsAIKRZo.jpg\n",
      "100% [............................................................................] 256131 / 256131downloading http://pbs.twimg.com/media/EfolAiiXoAEIDM4.jpg\n",
      "100% [............................................................................] 228743 / 228743downloading http://pbs.twimg.com/media/EfvsU8NWoAAskTU.jpg\n",
      "100% [............................................................................] 233051 / 233051"
     ]
    },
    {
     "data": {
      "text/plain": [
       "{('http://pbs.twimg.com/media/EfKKKXlWoAEY9FU.jpg', 1293247957370916866),\n",
       " ('http://pbs.twimg.com/media/EfU0Ob0XYAA09po.jpg', 1293997893934776321),\n",
       " ('http://pbs.twimg.com/media/EfV3p23XYAEcwz4.jpg', 1294072032037085184),\n",
       " ('http://pbs.twimg.com/media/EfYy5rnXYAEFraz.jpg', 1294277913550913536),\n",
       " ('http://pbs.twimg.com/media/Efa69jOWkAQWe2c.jpg', 1294427512701947911),\n",
       " ('http://pbs.twimg.com/media/EfbR4ESWoAIqc7a.jpg', 1294452707194023936),\n",
       " ('http://pbs.twimg.com/media/EfewlQzXsAEH9g7.jpg', 1294697574662840322),\n",
       " ('http://pbs.twimg.com/media/EfiqsWoXgAAInIA.jpg', 1294972575014162432),\n",
       " ('http://pbs.twimg.com/media/EfleHBAXoAIy7VC.jpg', 1295169846427226117),\n",
       " ('http://pbs.twimg.com/media/EflifWBXsAIKRZo.jpg', 1295174662209576966),\n",
       " ('http://pbs.twimg.com/media/Efo11UvXkAcR-UP.jpg', 1295407036264525825),\n",
       " ('http://pbs.twimg.com/media/EfolAiiXoAEIDM4.jpg', 1295388537462886405),\n",
       " ('http://pbs.twimg.com/media/EfvsU8NWoAAskTU.jpg', 1295889165570256896),\n",
       " ('http://pbs.twimg.com/media/EgRgHBQVAAo8RXK.jpg', 1298268272937164803),\n",
       " ('http://pbs.twimg.com/media/EgRykMeXsAATksC.jpg', 1298288670055763978),\n",
       " ('http://pbs.twimg.com/media/EgSOaC_XYAIiL7f.jpg', 1298319174922637312),\n",
       " ('http://pbs.twimg.com/media/EgT4x2DXYAY7Y7W.jpg', 1298436130992529408),\n",
       " ('http://pbs.twimg.com/media/EgWkM0KWkAAtWAQ.jpg', 1298624611358314497),\n",
       " ('http://pbs.twimg.com/media/EgboOXGUYAMSNBS.jpg', 1298980879516069889),\n",
       " ('http://pbs.twimg.com/media/Eghtu31UwAA-562.jpg', 1299409148296278016)}"
      ]
     },
     "execution_count": 6,
     "metadata": {},
     "output_type": "execute_result"
    }
   ],
   "source": [
    "getMilesTweets()"
   ]
  },
  {
   "cell_type": "code",
   "execution_count": 7,
   "metadata": {},
   "outputs": [],
   "source": [
    "random_style_transfer()"
   ]
  },
  {
   "cell_type": "code",
   "execution_count": 2,
   "metadata": {},
   "outputs": [],
   "source": []
  },
  {
   "cell_type": "code",
   "execution_count": 3,
   "metadata": {},
   "outputs": [],
   "source": [
    "api = authorize_twitter()"
   ]
  },
  {
   "cell_type": "code",
   "execution_count": null,
   "metadata": {},
   "outputs": [],
   "source": []
  },
  {
   "cell_type": "code",
   "execution_count": 4,
   "metadata": {},
   "outputs": [],
   "source": [
    "timeline = api.user_timeline(screen_name='@MilesSleeping')\n"
   ]
  },
  {
   "cell_type": "code",
   "execution_count": 126,
   "metadata": {},
   "outputs": [],
   "source": [
    "processed_folder = 'processed_images/'\n",
    "predictions = f'registry/cat_dog_pred.csv'\n",
    "tweet_file = 'registry/tweeted.csv'\n"
   ]
  },
  {
   "cell_type": "code",
   "execution_count": 127,
   "metadata": {},
   "outputs": [],
   "source": [
    "tweeted_df = pd.read_csv(tweet_file)\n",
    "pred_df = pd.read_csv(predictions)\n",
    "not_tweeted = pd.merge(pred_df,tweeted_df, on  = ['tweet_id'], how = 'left')\n",
    "not_tweeted = not_tweeted[not_tweeted.tweeted != 1]"
   ]
  },
  {
   "cell_type": "code",
   "execution_count": 128,
   "metadata": {},
   "outputs": [],
   "source": [
    "aRow = not_tweeted.sample(1)"
   ]
  },
  {
   "cell_type": "code",
   "execution_count": 129,
   "metadata": {},
   "outputs": [
    {
     "data": {
      "text/plain": [
       "'EegeMyqWAAgIOzb.jpg'"
      ]
     },
     "execution_count": 129,
     "metadata": {},
     "output_type": "execute_result"
    }
   ],
   "source": [
    "aRow.iloc[0]['f_name']"
   ]
  },
  {
   "cell_type": "code",
   "execution_count": 130,
   "metadata": {},
   "outputs": [],
   "source": [
    "tweet_file = f'{processed_folder}{aRow.iloc[0][\"f_name\"]}'"
   ]
  },
  {
   "cell_type": "code",
   "execution_count": 100,
   "metadata": {},
   "outputs": [
    {
     "data": {
      "text/plain": [
       "'processed_images/EeRO1VpWAAEH2Yz.jpg'"
      ]
     },
     "execution_count": 100,
     "metadata": {},
     "output_type": "execute_result"
    }
   ],
   "source": [
    "tweet_file"
   ]
  },
  {
   "cell_type": "code",
   "execution_count": 101,
   "metadata": {},
   "outputs": [],
   "source": [
    "status_text =  f'Miles is {(aRow.iloc[0][\"prob_dog\"]*100).round(1)}% likely to be a Dog \\n #MilesIsDreaming @MilesSleeping'"
   ]
  },
  {
   "cell_type": "code",
   "execution_count": 102,
   "metadata": {},
   "outputs": [
    {
     "data": {
      "text/plain": [
       "'Miles is 86.7% likely to be a Dog \\n #MilesIsDreaming'"
      ]
     },
     "execution_count": 102,
     "metadata": {},
     "output_type": "execute_result"
    }
   ],
   "source": [
    "status_text"
   ]
  },
  {
   "cell_type": "code",
   "execution_count": 103,
   "metadata": {},
   "outputs": [
    {
     "data": {
      "text/plain": [
       "'1289242075188232193'"
      ]
     },
     "execution_count": 103,
     "metadata": {},
     "output_type": "execute_result"
    }
   ],
   "source": [
    "f'{aRow.iloc[0][\"tweet_id\"]}' "
   ]
  },
  {
   "cell_type": "code",
   "execution_count": 104,
   "metadata": {},
   "outputs": [
    {
     "data": {
      "text/plain": [
       "Status(_api=<tweepy.api.API object at 0x000001DFE6C446C8>, _json={'created_at': 'Sat Aug 08 20:03:23 +0000 2020', 'id': 1292189687184936960, 'id_str': '1292189687184936960', 'text': 'Miles is 86.7% likely to be a Dog \\n #MilesIsDreaming https://t.co/CaITZxFxf7', 'truncated': False, 'entities': {'hashtags': [{'text': 'MilesIsDreaming', 'indices': [36, 52]}], 'symbols': [], 'user_mentions': [], 'urls': [], 'media': [{'id': 1292189685704355840, 'id_str': '1292189685704355840', 'indices': [53, 76], 'media_url': 'http://pbs.twimg.com/media/Ee7HrD7U8AAIbaz.jpg', 'media_url_https': 'https://pbs.twimg.com/media/Ee7HrD7U8AAIbaz.jpg', 'url': 'https://t.co/CaITZxFxf7', 'display_url': 'pic.twitter.com/CaITZxFxf7', 'expanded_url': 'https://twitter.com/data_mike_j/status/1292189687184936960/photo/1', 'type': 'photo', 'sizes': {'thumb': {'w': 150, 'h': 150, 'resize': 'crop'}, 'medium': {'w': 1200, 'h': 900, 'resize': 'fit'}, 'large': {'w': 1200, 'h': 900, 'resize': 'fit'}, 'small': {'w': 680, 'h': 510, 'resize': 'fit'}}}]}, 'extended_entities': {'media': [{'id': 1292189685704355840, 'id_str': '1292189685704355840', 'indices': [53, 76], 'media_url': 'http://pbs.twimg.com/media/Ee7HrD7U8AAIbaz.jpg', 'media_url_https': 'https://pbs.twimg.com/media/Ee7HrD7U8AAIbaz.jpg', 'url': 'https://t.co/CaITZxFxf7', 'display_url': 'pic.twitter.com/CaITZxFxf7', 'expanded_url': 'https://twitter.com/data_mike_j/status/1292189687184936960/photo/1', 'type': 'photo', 'sizes': {'thumb': {'w': 150, 'h': 150, 'resize': 'crop'}, 'medium': {'w': 1200, 'h': 900, 'resize': 'fit'}, 'large': {'w': 1200, 'h': 900, 'resize': 'fit'}, 'small': {'w': 680, 'h': 510, 'resize': 'fit'}}}]}, 'source': '', 'in_reply_to_status_id': None, 'in_reply_to_status_id_str': None, 'in_reply_to_user_id': None, 'in_reply_to_user_id_str': None, 'in_reply_to_screen_name': None, 'user': {'id': 1053368990695706624, 'id_str': '1053368990695706624', 'name': 'Michael Johnson', 'screen_name': 'data_mike_j', 'location': 'Colorado, USA', 'description': 'Lead Data Scientist, deep learning, nlp, father of 4. YouTube: DataMike', 'url': 'https://t.co/3D9vQwDOtv', 'entities': {'url': {'urls': [{'url': 'https://t.co/3D9vQwDOtv', 'expanded_url': 'http://www.minimizeuncertainty.com', 'display_url': 'minimizeuncertainty.com', 'indices': [0, 23]}]}, 'description': {'urls': []}}, 'protected': False, 'followers_count': 42, 'friends_count': 89, 'listed_count': 1, 'created_at': 'Fri Oct 19 19:35:12 +0000 2018', 'favourites_count': 401, 'utc_offset': None, 'time_zone': None, 'geo_enabled': False, 'verified': False, 'statuses_count': 220, 'lang': None, 'contributors_enabled': False, 'is_translator': False, 'is_translation_enabled': False, 'profile_background_color': 'F5F8FA', 'profile_background_image_url': None, 'profile_background_image_url_https': None, 'profile_background_tile': False, 'profile_image_url': 'http://pbs.twimg.com/profile_images/1119819713507282944/geqYbAbR_normal.jpg', 'profile_image_url_https': 'https://pbs.twimg.com/profile_images/1119819713507282944/geqYbAbR_normal.jpg', 'profile_link_color': '1DA1F2', 'profile_sidebar_border_color': 'C0DEED', 'profile_sidebar_fill_color': 'DDEEF6', 'profile_text_color': '333333', 'profile_use_background_image': True, 'has_extended_profile': False, 'default_profile': True, 'default_profile_image': False, 'following': False, 'follow_request_sent': False, 'notifications': False, 'translator_type': 'none'}, 'geo': None, 'coordinates': None, 'place': None, 'contributors': None, 'is_quote_status': False, 'retweet_count': 0, 'favorite_count': 0, 'favorited': False, 'retweeted': False, 'possibly_sensitive': False, 'lang': 'en'}, created_at=datetime.datetime(2020, 8, 8, 20, 3, 23), id=1292189687184936960, id_str='1292189687184936960', text='Miles is 86.7% likely to be a Dog \\n #MilesIsDreaming https://t.co/CaITZxFxf7', truncated=False, entities={'hashtags': [{'text': 'MilesIsDreaming', 'indices': [36, 52]}], 'symbols': [], 'user_mentions': [], 'urls': [], 'media': [{'id': 1292189685704355840, 'id_str': '1292189685704355840', 'indices': [53, 76], 'media_url': 'http://pbs.twimg.com/media/Ee7HrD7U8AAIbaz.jpg', 'media_url_https': 'https://pbs.twimg.com/media/Ee7HrD7U8AAIbaz.jpg', 'url': 'https://t.co/CaITZxFxf7', 'display_url': 'pic.twitter.com/CaITZxFxf7', 'expanded_url': 'https://twitter.com/data_mike_j/status/1292189687184936960/photo/1', 'type': 'photo', 'sizes': {'thumb': {'w': 150, 'h': 150, 'resize': 'crop'}, 'medium': {'w': 1200, 'h': 900, 'resize': 'fit'}, 'large': {'w': 1200, 'h': 900, 'resize': 'fit'}, 'small': {'w': 680, 'h': 510, 'resize': 'fit'}}}]}, extended_entities={'media': [{'id': 1292189685704355840, 'id_str': '1292189685704355840', 'indices': [53, 76], 'media_url': 'http://pbs.twimg.com/media/Ee7HrD7U8AAIbaz.jpg', 'media_url_https': 'https://pbs.twimg.com/media/Ee7HrD7U8AAIbaz.jpg', 'url': 'https://t.co/CaITZxFxf7', 'display_url': 'pic.twitter.com/CaITZxFxf7', 'expanded_url': 'https://twitter.com/data_mike_j/status/1292189687184936960/photo/1', 'type': 'photo', 'sizes': {'thumb': {'w': 150, 'h': 150, 'resize': 'crop'}, 'medium': {'w': 1200, 'h': 900, 'resize': 'fit'}, 'large': {'w': 1200, 'h': 900, 'resize': 'fit'}, 'small': {'w': 680, 'h': 510, 'resize': 'fit'}}}]}, source='', source_url=None, in_reply_to_status_id=None, in_reply_to_status_id_str=None, in_reply_to_user_id=None, in_reply_to_user_id_str=None, in_reply_to_screen_name=None, author=User(_api=<tweepy.api.API object at 0x000001DFE6C446C8>, _json={'id': 1053368990695706624, 'id_str': '1053368990695706624', 'name': 'Michael Johnson', 'screen_name': 'data_mike_j', 'location': 'Colorado, USA', 'description': 'Lead Data Scientist, deep learning, nlp, father of 4. YouTube: DataMike', 'url': 'https://t.co/3D9vQwDOtv', 'entities': {'url': {'urls': [{'url': 'https://t.co/3D9vQwDOtv', 'expanded_url': 'http://www.minimizeuncertainty.com', 'display_url': 'minimizeuncertainty.com', 'indices': [0, 23]}]}, 'description': {'urls': []}}, 'protected': False, 'followers_count': 42, 'friends_count': 89, 'listed_count': 1, 'created_at': 'Fri Oct 19 19:35:12 +0000 2018', 'favourites_count': 401, 'utc_offset': None, 'time_zone': None, 'geo_enabled': False, 'verified': False, 'statuses_count': 220, 'lang': None, 'contributors_enabled': False, 'is_translator': False, 'is_translation_enabled': False, 'profile_background_color': 'F5F8FA', 'profile_background_image_url': None, 'profile_background_image_url_https': None, 'profile_background_tile': False, 'profile_image_url': 'http://pbs.twimg.com/profile_images/1119819713507282944/geqYbAbR_normal.jpg', 'profile_image_url_https': 'https://pbs.twimg.com/profile_images/1119819713507282944/geqYbAbR_normal.jpg', 'profile_link_color': '1DA1F2', 'profile_sidebar_border_color': 'C0DEED', 'profile_sidebar_fill_color': 'DDEEF6', 'profile_text_color': '333333', 'profile_use_background_image': True, 'has_extended_profile': False, 'default_profile': True, 'default_profile_image': False, 'following': False, 'follow_request_sent': False, 'notifications': False, 'translator_type': 'none'}, id=1053368990695706624, id_str='1053368990695706624', name='Michael Johnson', screen_name='data_mike_j', location='Colorado, USA', description='Lead Data Scientist, deep learning, nlp, father of 4. YouTube: DataMike', url='https://t.co/3D9vQwDOtv', entities={'url': {'urls': [{'url': 'https://t.co/3D9vQwDOtv', 'expanded_url': 'http://www.minimizeuncertainty.com', 'display_url': 'minimizeuncertainty.com', 'indices': [0, 23]}]}, 'description': {'urls': []}}, protected=False, followers_count=42, friends_count=89, listed_count=1, created_at=datetime.datetime(2018, 10, 19, 19, 35, 12), favourites_count=401, utc_offset=None, time_zone=None, geo_enabled=False, verified=False, statuses_count=220, lang=None, contributors_enabled=False, is_translator=False, is_translation_enabled=False, profile_background_color='F5F8FA', profile_background_image_url=None, profile_background_image_url_https=None, profile_background_tile=False, profile_image_url='http://pbs.twimg.com/profile_images/1119819713507282944/geqYbAbR_normal.jpg', profile_image_url_https='https://pbs.twimg.com/profile_images/1119819713507282944/geqYbAbR_normal.jpg', profile_link_color='1DA1F2', profile_sidebar_border_color='C0DEED', profile_sidebar_fill_color='DDEEF6', profile_text_color='333333', profile_use_background_image=True, has_extended_profile=False, default_profile=True, default_profile_image=False, following=False, follow_request_sent=False, notifications=False, translator_type='none'), user=User(_api=<tweepy.api.API object at 0x000001DFE6C446C8>, _json={'id': 1053368990695706624, 'id_str': '1053368990695706624', 'name': 'Michael Johnson', 'screen_name': 'data_mike_j', 'location': 'Colorado, USA', 'description': 'Lead Data Scientist, deep learning, nlp, father of 4. YouTube: DataMike', 'url': 'https://t.co/3D9vQwDOtv', 'entities': {'url': {'urls': [{'url': 'https://t.co/3D9vQwDOtv', 'expanded_url': 'http://www.minimizeuncertainty.com', 'display_url': 'minimizeuncertainty.com', 'indices': [0, 23]}]}, 'description': {'urls': []}}, 'protected': False, 'followers_count': 42, 'friends_count': 89, 'listed_count': 1, 'created_at': 'Fri Oct 19 19:35:12 +0000 2018', 'favourites_count': 401, 'utc_offset': None, 'time_zone': None, 'geo_enabled': False, 'verified': False, 'statuses_count': 220, 'lang': None, 'contributors_enabled': False, 'is_translator': False, 'is_translation_enabled': False, 'profile_background_color': 'F5F8FA', 'profile_background_image_url': None, 'profile_background_image_url_https': None, 'profile_background_tile': False, 'profile_image_url': 'http://pbs.twimg.com/profile_images/1119819713507282944/geqYbAbR_normal.jpg', 'profile_image_url_https': 'https://pbs.twimg.com/profile_images/1119819713507282944/geqYbAbR_normal.jpg', 'profile_link_color': '1DA1F2', 'profile_sidebar_border_color': 'C0DEED', 'profile_sidebar_fill_color': 'DDEEF6', 'profile_text_color': '333333', 'profile_use_background_image': True, 'has_extended_profile': False, 'default_profile': True, 'default_profile_image': False, 'following': False, 'follow_request_sent': False, 'notifications': False, 'translator_type': 'none'}, id=1053368990695706624, id_str='1053368990695706624', name='Michael Johnson', screen_name='data_mike_j', location='Colorado, USA', description='Lead Data Scientist, deep learning, nlp, father of 4. YouTube: DataMike', url='https://t.co/3D9vQwDOtv', entities={'url': {'urls': [{'url': 'https://t.co/3D9vQwDOtv', 'expanded_url': 'http://www.minimizeuncertainty.com', 'display_url': 'minimizeuncertainty.com', 'indices': [0, 23]}]}, 'description': {'urls': []}}, protected=False, followers_count=42, friends_count=89, listed_count=1, created_at=datetime.datetime(2018, 10, 19, 19, 35, 12), favourites_count=401, utc_offset=None, time_zone=None, geo_enabled=False, verified=False, statuses_count=220, lang=None, contributors_enabled=False, is_translator=False, is_translation_enabled=False, profile_background_color='F5F8FA', profile_background_image_url=None, profile_background_image_url_https=None, profile_background_tile=False, profile_image_url='http://pbs.twimg.com/profile_images/1119819713507282944/geqYbAbR_normal.jpg', profile_image_url_https='https://pbs.twimg.com/profile_images/1119819713507282944/geqYbAbR_normal.jpg', profile_link_color='1DA1F2', profile_sidebar_border_color='C0DEED', profile_sidebar_fill_color='DDEEF6', profile_text_color='333333', profile_use_background_image=True, has_extended_profile=False, default_profile=True, default_profile_image=False, following=False, follow_request_sent=False, notifications=False, translator_type='none'), geo=None, coordinates=None, place=None, contributors=None, is_quote_status=False, retweet_count=0, favorite_count=0, favorited=False, retweeted=False, possibly_sensitive=False, lang='en')"
      ]
     },
     "execution_count": 104,
     "metadata": {},
     "output_type": "execute_result"
    }
   ],
   "source": [
    "api.update_with_media(filename =tweet_file, status = status_text, in_reply_to_status_id = f'{aRow.iloc[0][\"tweet_id\"]}'   )"
   ]
  },
  {
   "cell_type": "code",
   "execution_count": 106,
   "metadata": {},
   "outputs": [
    {
     "data": {
      "text/html": [
       "<div>\n",
       "<style scoped>\n",
       "    .dataframe tbody tr th:only-of-type {\n",
       "        vertical-align: middle;\n",
       "    }\n",
       "\n",
       "    .dataframe tbody tr th {\n",
       "        vertical-align: top;\n",
       "    }\n",
       "\n",
       "    .dataframe thead th {\n",
       "        text-align: right;\n",
       "    }\n",
       "</style>\n",
       "<table border=\"1\" class=\"dataframe\">\n",
       "  <thead>\n",
       "    <tr style=\"text-align: right;\">\n",
       "      <th></th>\n",
       "      <th>file</th>\n",
       "      <th>tweet_id</th>\n",
       "      <th>f_name</th>\n",
       "      <th>prob_dog</th>\n",
       "    </tr>\n",
       "  </thead>\n",
       "  <tbody>\n",
       "    <tr>\n",
       "      <th>3</th>\n",
       "      <td>http://pbs.twimg.com/media/EeRO1VpWAAEH2Yz.jpg</td>\n",
       "      <td>1289242075188232193</td>\n",
       "      <td>EeRO1VpWAAEH2Yz.jpg</td>\n",
       "      <td>0.867306</td>\n",
       "    </tr>\n",
       "  </tbody>\n",
       "</table>\n",
       "</div>"
      ],
      "text/plain": [
       "                                             file             tweet_id  \\\n",
       "3  http://pbs.twimg.com/media/EeRO1VpWAAEH2Yz.jpg  1289242075188232193   \n",
       "\n",
       "                f_name  prob_dog  \n",
       "3  EeRO1VpWAAEH2Yz.jpg  0.867306  "
      ]
     },
     "execution_count": 106,
     "metadata": {},
     "output_type": "execute_result"
    }
   ],
   "source": [
    "pred_df[pred_df.tweet_id == aRow.iloc[0]['tweet_id']]"
   ]
  },
  {
   "cell_type": "code",
   "execution_count": 110,
   "metadata": {},
   "outputs": [],
   "source": [
    "tweeted = not_tweeted[not_tweeted.tweet_id == aRow.iloc[0]['tweet_id']][['tweet_id','tweeted']] "
   ]
  },
  {
   "cell_type": "code",
   "execution_count": 111,
   "metadata": {},
   "outputs": [
    {
     "data": {
      "text/html": [
       "<div>\n",
       "<style scoped>\n",
       "    .dataframe tbody tr th:only-of-type {\n",
       "        vertical-align: middle;\n",
       "    }\n",
       "\n",
       "    .dataframe tbody tr th {\n",
       "        vertical-align: top;\n",
       "    }\n",
       "\n",
       "    .dataframe thead th {\n",
       "        text-align: right;\n",
       "    }\n",
       "</style>\n",
       "<table border=\"1\" class=\"dataframe\">\n",
       "  <thead>\n",
       "    <tr style=\"text-align: right;\">\n",
       "      <th></th>\n",
       "      <th>tweet_id</th>\n",
       "      <th>tweeted</th>\n",
       "    </tr>\n",
       "  </thead>\n",
       "  <tbody>\n",
       "    <tr>\n",
       "      <th>3</th>\n",
       "      <td>1289242075188232193</td>\n",
       "      <td>NaN</td>\n",
       "    </tr>\n",
       "  </tbody>\n",
       "</table>\n",
       "</div>"
      ],
      "text/plain": [
       "              tweet_id  tweeted\n",
       "3  1289242075188232193      NaN"
      ]
     },
     "execution_count": 111,
     "metadata": {},
     "output_type": "execute_result"
    }
   ],
   "source": [
    "tweeted"
   ]
  },
  {
   "cell_type": "code",
   "execution_count": 113,
   "metadata": {},
   "outputs": [],
   "source": [
    "tweeted['tweeted'] = 1"
   ]
  },
  {
   "cell_type": "code",
   "execution_count": 114,
   "metadata": {},
   "outputs": [],
   "source": [
    "tweeted.to_csv('registry/tweeted.csv', mode = 'a',index = False,header = False)"
   ]
  },
  {
   "cell_type": "code",
   "execution_count": 77,
   "metadata": {},
   "outputs": [
    {
     "data": {
      "text/html": [
       "<div>\n",
       "<style scoped>\n",
       "    .dataframe tbody tr th:only-of-type {\n",
       "        vertical-align: middle;\n",
       "    }\n",
       "\n",
       "    .dataframe tbody tr th {\n",
       "        vertical-align: top;\n",
       "    }\n",
       "\n",
       "    .dataframe thead th {\n",
       "        text-align: right;\n",
       "    }\n",
       "</style>\n",
       "<table border=\"1\" class=\"dataframe\">\n",
       "  <thead>\n",
       "    <tr style=\"text-align: right;\">\n",
       "      <th></th>\n",
       "      <th>file</th>\n",
       "      <th>tweet_id</th>\n",
       "      <th>f_name</th>\n",
       "      <th>prob_dog</th>\n",
       "      <th>tweeted</th>\n",
       "    </tr>\n",
       "  </thead>\n",
       "  <tbody>\n",
       "    <tr>\n",
       "      <th>0</th>\n",
       "      <td>http://pbs.twimg.com/media/EewRBbzXkAAsDew.jpg</td>\n",
       "      <td>1291425914241327104</td>\n",
       "      <td>EewRBbzXkAAsDew.jpg</td>\n",
       "      <td>0.655863</td>\n",
       "      <td>1</td>\n",
       "    </tr>\n",
       "  </tbody>\n",
       "</table>\n",
       "</div>"
      ],
      "text/plain": [
       "                                             file             tweet_id  \\\n",
       "0  http://pbs.twimg.com/media/EewRBbzXkAAsDew.jpg  1291425914241327104   \n",
       "\n",
       "                f_name  prob_dog  tweeted  \n",
       "0  EewRBbzXkAAsDew.jpg  0.655863        1  "
      ]
     },
     "execution_count": 77,
     "metadata": {},
     "output_type": "execute_result"
    }
   ],
   "source": [
    "tweeted"
   ]
  },
  {
   "cell_type": "code",
   "execution_count": 80,
   "metadata": {},
   "outputs": [
    {
     "data": {
      "text/html": [
       "<div>\n",
       "<style scoped>\n",
       "    .dataframe tbody tr th:only-of-type {\n",
       "        vertical-align: middle;\n",
       "    }\n",
       "\n",
       "    .dataframe tbody tr th {\n",
       "        vertical-align: top;\n",
       "    }\n",
       "\n",
       "    .dataframe thead th {\n",
       "        text-align: right;\n",
       "    }\n",
       "</style>\n",
       "<table border=\"1\" class=\"dataframe\">\n",
       "  <thead>\n",
       "    <tr style=\"text-align: right;\">\n",
       "      <th></th>\n",
       "      <th>tweet_id</th>\n",
       "      <th>tweeted</th>\n",
       "      <th>f_name</th>\n",
       "    </tr>\n",
       "  </thead>\n",
       "  <tbody>\n",
       "    <tr>\n",
       "      <th>0</th>\n",
       "      <td>1291425914241327104</td>\n",
       "      <td>1</td>\n",
       "      <td>EewRBbzXkAAsDew.jpg</td>\n",
       "    </tr>\n",
       "  </tbody>\n",
       "</table>\n",
       "</div>"
      ],
      "text/plain": [
       "              tweet_id  tweeted               f_name\n",
       "0  1291425914241327104        1  EewRBbzXkAAsDew.jpg"
      ]
     },
     "execution_count": 80,
     "metadata": {},
     "output_type": "execute_result"
    }
   ],
   "source": [
    "tweeted2 = pd.read_csv(tweet_file)"
   ]
  },
  {
   "cell_type": "code",
   "execution_count": 88,
   "metadata": {},
   "outputs": [],
   "source": [
    "tweeted_mini.to_csv('registry/tweeted2.csv', index = False)"
   ]
  },
  {
   "cell_type": "code",
   "execution_count": 125,
   "metadata": {},
   "outputs": [],
   "source": [
    "tweeted = pd.read_csv('registry/tweeted.csv')"
   ]
  },
  {
   "cell_type": "code",
   "execution_count": 124,
   "metadata": {},
   "outputs": [],
   "source": [
    "tweeted[tweeted.tweeted=='1'].to_csv('registry/tweeted.csv',index = False)"
   ]
  },
  {
   "cell_type": "code",
   "execution_count": 123,
   "metadata": {},
   "outputs": [
    {
     "data": {
      "text/html": [
       "<div>\n",
       "<style scoped>\n",
       "    .dataframe tbody tr th:only-of-type {\n",
       "        vertical-align: middle;\n",
       "    }\n",
       "\n",
       "    .dataframe tbody tr th {\n",
       "        vertical-align: top;\n",
       "    }\n",
       "\n",
       "    .dataframe thead th {\n",
       "        text-align: right;\n",
       "    }\n",
       "</style>\n",
       "<table border=\"1\" class=\"dataframe\">\n",
       "  <thead>\n",
       "    <tr style=\"text-align: right;\">\n",
       "      <th></th>\n",
       "      <th>tweet_id</th>\n",
       "      <th>tweeted</th>\n",
       "    </tr>\n",
       "  </thead>\n",
       "  <tbody>\n",
       "    <tr>\n",
       "      <th>0</th>\n",
       "      <td>1291425914241327104</td>\n",
       "      <td>1</td>\n",
       "    </tr>\n",
       "    <tr>\n",
       "      <th>1</th>\n",
       "      <td>1289242075188232193</td>\n",
       "      <td>1</td>\n",
       "    </tr>\n",
       "  </tbody>\n",
       "</table>\n",
       "</div>"
      ],
      "text/plain": [
       "              tweet_id  tweeted\n",
       "0  1291425914241327104        1\n",
       "1  1289242075188232193        1"
      ]
     },
     "execution_count": 123,
     "metadata": {},
     "output_type": "execute_result"
    }
   ],
   "source": [
    "tweeted.to"
   ]
  },
  {
   "cell_type": "code",
   "execution_count": null,
   "metadata": {},
   "outputs": [],
   "source": []
  }
 ],
 "metadata": {
  "kernelspec": {
   "display_name": "Python 3",
   "language": "python",
   "name": "python3"
  },
  "language_info": {
   "codemirror_mode": {
    "name": "ipython",
    "version": 3
   },
   "file_extension": ".py",
   "mimetype": "text/x-python",
   "name": "python",
   "nbconvert_exporter": "python",
   "pygments_lexer": "ipython3",
   "version": "3.6.5"
  }
 },
 "nbformat": 4,
 "nbformat_minor": 4
}
