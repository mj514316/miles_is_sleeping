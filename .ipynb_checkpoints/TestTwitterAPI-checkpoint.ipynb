{
 "cells": [
  {
   "cell_type": "code",
   "execution_count": 5,
   "metadata": {},
   "outputs": [
    {
     "name": "stdout",
     "output_type": "stream",
     "text": [
      "The autoreload extension is already loaded. To reload it, use:\n",
      "  %reload_ext autoreload\n"
     ]
    }
   ],
   "source": [
    "%load_ext autoreload\n",
    "%autoreload 2\n",
    "import os\n",
    "import sys\n",
    "sys.path.append(\"src\")\n",
    "sys.path.append(\"../fast-style-transfer/\")\n",
    "sys.path.append(\"../fast-style-transfer/src\")\n",
    "from miles_utils import getMilesTweets, random_style_transfer\n",
    "\n",
    "\n",
    "import tweepy\n",
    "import pandas as pd"
   ]
  },
  {
   "cell_type": "code",
   "execution_count": 6,
   "metadata": {
    "scrolled": true
   },
   "outputs": [
    {
     "ename": "TweepError",
     "evalue": "[{'code': 89, 'message': 'Invalid or expired token.'}]",
     "output_type": "error",
     "traceback": [
      "\u001b[1;31m---------------------------------------------------------------------------\u001b[0m",
      "\u001b[1;31mTweepError\u001b[0m                                Traceback (most recent call last)",
      "\u001b[1;32m<ipython-input-6-6109adafcb37>\u001b[0m in \u001b[0;36m<module>\u001b[1;34m()\u001b[0m\n\u001b[1;32m----> 1\u001b[1;33m \u001b[0mgetMilesTweets\u001b[0m\u001b[1;33m(\u001b[0m\u001b[1;33m)\u001b[0m\u001b[1;33m\u001b[0m\u001b[0m\n\u001b[0m",
      "\u001b[1;32mC:\\Users\\mj514\\Documents\\Miles_is_sleeping\\miles_utils.py\u001b[0m in \u001b[0;36mgetMilesTweets\u001b[1;34m(dest_folder, registry)\u001b[0m\n\u001b[0;32m     18\u001b[0m     \u001b[0mauth\u001b[0m\u001b[1;33m.\u001b[0m\u001b[0mset_access_token\u001b[0m\u001b[1;33m(\u001b[0m\u001b[1;34m'1053368990695706624-F1ulzDrxFBwZXNt02zyAjCLZ3ozqZ3'\u001b[0m\u001b[1;33m,\u001b[0m\u001b[1;34m'NotxjM5binkD483hYHbugyVagVlGDrXlaegiDvUpmwZoK'\u001b[0m\u001b[1;33m)\u001b[0m\u001b[1;33m\u001b[0m\u001b[0m\n\u001b[0;32m     19\u001b[0m     \u001b[0mapi\u001b[0m \u001b[1;33m=\u001b[0m \u001b[0mtweepy\u001b[0m\u001b[1;33m.\u001b[0m\u001b[0mAPI\u001b[0m\u001b[1;33m(\u001b[0m\u001b[0mauth\u001b[0m\u001b[1;33m)\u001b[0m\u001b[1;33m\u001b[0m\u001b[0m\n\u001b[1;32m---> 20\u001b[1;33m     \u001b[0mtimeline\u001b[0m \u001b[1;33m=\u001b[0m \u001b[0mapi\u001b[0m\u001b[1;33m.\u001b[0m\u001b[0muser_timeline\u001b[0m\u001b[1;33m(\u001b[0m\u001b[0mscreen_name\u001b[0m\u001b[1;33m=\u001b[0m\u001b[1;34m'@MilesSleeping'\u001b[0m\u001b[1;33m)\u001b[0m\u001b[1;33m\u001b[0m\u001b[0m\n\u001b[0m\u001b[0;32m     21\u001b[0m \u001b[1;33m\u001b[0m\u001b[0m\n\u001b[0;32m     22\u001b[0m     \u001b[0mregistryDF\u001b[0m \u001b[1;33m=\u001b[0m \u001b[0mpd\u001b[0m\u001b[1;33m.\u001b[0m\u001b[0mread_csv\u001b[0m\u001b[1;33m(\u001b[0m\u001b[0mregistry\u001b[0m\u001b[1;33m)\u001b[0m\u001b[1;33m\u001b[0m\u001b[0m\n",
      "\u001b[1;32mC:\\Users\\mj514\\Anaconda3\\lib\\site-packages\\tweepy\\binder.py\u001b[0m in \u001b[0;36m_call\u001b[1;34m(*args, **kwargs)\u001b[0m\n\u001b[0;32m    250\u001b[0m                 \u001b[1;32mreturn\u001b[0m \u001b[0mmethod\u001b[0m\u001b[1;33m\u001b[0m\u001b[0m\n\u001b[0;32m    251\u001b[0m             \u001b[1;32melse\u001b[0m\u001b[1;33m:\u001b[0m\u001b[1;33m\u001b[0m\u001b[0m\n\u001b[1;32m--> 252\u001b[1;33m                 \u001b[1;32mreturn\u001b[0m \u001b[0mmethod\u001b[0m\u001b[1;33m.\u001b[0m\u001b[0mexecute\u001b[0m\u001b[1;33m(\u001b[0m\u001b[1;33m)\u001b[0m\u001b[1;33m\u001b[0m\u001b[0m\n\u001b[0m\u001b[0;32m    253\u001b[0m         \u001b[1;32mfinally\u001b[0m\u001b[1;33m:\u001b[0m\u001b[1;33m\u001b[0m\u001b[0m\n\u001b[0;32m    254\u001b[0m             \u001b[0mmethod\u001b[0m\u001b[1;33m.\u001b[0m\u001b[0msession\u001b[0m\u001b[1;33m.\u001b[0m\u001b[0mclose\u001b[0m\u001b[1;33m(\u001b[0m\u001b[1;33m)\u001b[0m\u001b[1;33m\u001b[0m\u001b[0m\n",
      "\u001b[1;32mC:\\Users\\mj514\\Anaconda3\\lib\\site-packages\\tweepy\\binder.py\u001b[0m in \u001b[0;36mexecute\u001b[1;34m(self)\u001b[0m\n\u001b[0;32m    232\u001b[0m                     \u001b[1;32mraise\u001b[0m \u001b[0mRateLimitError\u001b[0m\u001b[1;33m(\u001b[0m\u001b[0merror_msg\u001b[0m\u001b[1;33m,\u001b[0m \u001b[0mresp\u001b[0m\u001b[1;33m)\u001b[0m\u001b[1;33m\u001b[0m\u001b[0m\n\u001b[0;32m    233\u001b[0m                 \u001b[1;32melse\u001b[0m\u001b[1;33m:\u001b[0m\u001b[1;33m\u001b[0m\u001b[0m\n\u001b[1;32m--> 234\u001b[1;33m                     \u001b[1;32mraise\u001b[0m \u001b[0mTweepError\u001b[0m\u001b[1;33m(\u001b[0m\u001b[0merror_msg\u001b[0m\u001b[1;33m,\u001b[0m \u001b[0mresp\u001b[0m\u001b[1;33m,\u001b[0m \u001b[0mapi_code\u001b[0m\u001b[1;33m=\u001b[0m\u001b[0mapi_error_code\u001b[0m\u001b[1;33m)\u001b[0m\u001b[1;33m\u001b[0m\u001b[0m\n\u001b[0m\u001b[0;32m    235\u001b[0m \u001b[1;33m\u001b[0m\u001b[0m\n\u001b[0;32m    236\u001b[0m             \u001b[1;31m# Parse the response payload\u001b[0m\u001b[1;33m\u001b[0m\u001b[1;33m\u001b[0m\u001b[0m\n",
      "\u001b[1;31mTweepError\u001b[0m: [{'code': 89, 'message': 'Invalid or expired token.'}]"
     ]
    }
   ],
   "source": [
    "getMilesTweets()"
   ]
  },
  {
   "cell_type": "code",
   "execution_count": 7,
   "metadata": {},
   "outputs": [],
   "source": [
    "random_style_transfer()"
   ]
  },
  {
   "cell_type": "code",
   "execution_count": 14,
   "metadata": {},
   "outputs": [],
   "source": [
    "def authorize_twitter():\n",
    "    auth = tweepy.OAuthHandler(os.getenv('consumer_token'), os.getenv('twitter_consumer_secret'))\n",
    "    auth.set_access_token(os.getenv('twitter_key'),os.getenv('twitter_secret_key'))\n",
    "    return tweepy.API(auth)"
   ]
  },
  {
   "cell_type": "code",
   "execution_count": 12,
   "metadata": {},
   "outputs": [],
   "source": [
    "api = authorize_twitter()"
   ]
  },
  {
   "cell_type": "code",
   "execution_count": null,
   "metadata": {},
   "outputs": [],
   "source": []
  },
  {
   "cell_type": "code",
   "execution_count": 13,
   "metadata": {},
   "outputs": [],
   "source": [
    "timeline = api.user_timeline(screen_name='@MilesSleeping')\n"
   ]
  },
  {
   "cell_type": "code",
   "execution_count": 126,
   "metadata": {},
   "outputs": [],
   "source": [
    "processed_folder = 'processed_images/'\n",
    "predictions = f'registry/cat_dog_pred.csv'\n",
    "tweet_file = 'registry/tweeted.csv'\n"
   ]
  },
  {
   "cell_type": "code",
   "execution_count": 127,
   "metadata": {},
   "outputs": [],
   "source": [
    "tweeted_df = pd.read_csv(tweet_file)\n",
    "pred_df = pd.read_csv(predictions)\n",
    "not_tweeted = pd.merge(pred_df,tweeted_df, on  = ['tweet_id'], how = 'left')\n",
    "not_tweeted = not_tweeted[not_tweeted.tweeted != 1]"
   ]
  },
  {
   "cell_type": "code",
   "execution_count": 128,
   "metadata": {},
   "outputs": [],
   "source": [
    "aRow = not_tweeted.sample(1)"
   ]
  },
  {
   "cell_type": "code",
   "execution_count": 129,
   "metadata": {},
   "outputs": [
    {
     "data": {
      "text/plain": [
       "'EegeMyqWAAgIOzb.jpg'"
      ]
     },
     "execution_count": 129,
     "metadata": {},
     "output_type": "execute_result"
    }
   ],
   "source": [
    "aRow.iloc[0]['f_name']"
   ]
  },
  {
   "cell_type": "code",
   "execution_count": 130,
   "metadata": {},
   "outputs": [],
   "source": [
    "tweet_file = f'{processed_folder}{aRow.iloc[0][\"f_name\"]}'"
   ]
  },
  {
   "cell_type": "code",
   "execution_count": 100,
   "metadata": {},
   "outputs": [
    {
     "data": {
      "text/plain": [
       "'processed_images/EeRO1VpWAAEH2Yz.jpg'"
      ]
     },
     "execution_count": 100,
     "metadata": {},
     "output_type": "execute_result"
    }
   ],
   "source": [
    "tweet_file"
   ]
  },
  {
   "cell_type": "code",
   "execution_count": 101,
   "metadata": {},
   "outputs": [],
   "source": [
    "status_text =  f'Miles is {(aRow.iloc[0][\"prob_dog\"]*100).round(1)}% likely to be a Dog \\n #MilesIsDreaming @MilesSleeping'"
   ]
  },
  {
   "cell_type": "code",
   "execution_count": 102,
   "metadata": {},
   "outputs": [
    {
     "data": {
      "text/plain": [
       "'Miles is 86.7% likely to be a Dog \\n #MilesIsDreaming'"
      ]
     },
     "execution_count": 102,
     "metadata": {},
     "output_type": "execute_result"
    }
   ],
   "source": [
    "status_text"
   ]
  },
  {
   "cell_type": "code",
   "execution_count": 103,
   "metadata": {},
   "outputs": [
    {
     "data": {
      "text/plain": [
       "'1289242075188232193'"
      ]
     },
     "execution_count": 103,
     "metadata": {},
     "output_type": "execute_result"
    }
   ],
   "source": [
    "f'{aRow.iloc[0][\"tweet_id\"]}' "
   ]
  },
  {
   "cell_type": "code",
   "execution_count": 104,
   "metadata": {},
   "outputs": [
    {
     "data": {
      "text/plain": [
       "Status(_api=<tweepy.api.API object at 0x000001DFE6C446C8>, _json={'created_at': 'Sat Aug 08 20:03:23 +0000 2020', 'id': 1292189687184936960, 'id_str': '1292189687184936960', 'text': 'Miles is 86.7% likely to be a Dog \\n #MilesIsDreaming https://t.co/CaITZxFxf7', 'truncated': False, 'entities': {'hashtags': [{'text': 'MilesIsDreaming', 'indices': [36, 52]}], 'symbols': [], 'user_mentions': [], 'urls': [], 'media': [{'id': 1292189685704355840, 'id_str': '1292189685704355840', 'indices': [53, 76], 'media_url': 'http://pbs.twimg.com/media/Ee7HrD7U8AAIbaz.jpg', 'media_url_https': 'https://pbs.twimg.com/media/Ee7HrD7U8AAIbaz.jpg', 'url': 'https://t.co/CaITZxFxf7', 'display_url': 'pic.twitter.com/CaITZxFxf7', 'expanded_url': 'https://twitter.com/data_mike_j/status/1292189687184936960/photo/1', 'type': 'photo', 'sizes': {'thumb': {'w': 150, 'h': 150, 'resize': 'crop'}, 'medium': {'w': 1200, 'h': 900, 'resize': 'fit'}, 'large': {'w': 1200, 'h': 900, 'resize': 'fit'}, 'small': {'w': 680, 'h': 510, 'resize': 'fit'}}}]}, 'extended_entities': {'media': [{'id': 1292189685704355840, 'id_str': '1292189685704355840', 'indices': [53, 76], 'media_url': 'http://pbs.twimg.com/media/Ee7HrD7U8AAIbaz.jpg', 'media_url_https': 'https://pbs.twimg.com/media/Ee7HrD7U8AAIbaz.jpg', 'url': 'https://t.co/CaITZxFxf7', 'display_url': 'pic.twitter.com/CaITZxFxf7', 'expanded_url': 'https://twitter.com/data_mike_j/status/1292189687184936960/photo/1', 'type': 'photo', 'sizes': {'thumb': {'w': 150, 'h': 150, 'resize': 'crop'}, 'medium': {'w': 1200, 'h': 900, 'resize': 'fit'}, 'large': {'w': 1200, 'h': 900, 'resize': 'fit'}, 'small': {'w': 680, 'h': 510, 'resize': 'fit'}}}]}, 'source': '', 'in_reply_to_status_id': None, 'in_reply_to_status_id_str': None, 'in_reply_to_user_id': None, 'in_reply_to_user_id_str': None, 'in_reply_to_screen_name': None, 'user': {'id': 1053368990695706624, 'id_str': '1053368990695706624', 'name': 'Michael Johnson', 'screen_name': 'data_mike_j', 'location': 'Colorado, USA', 'description': 'Lead Data Scientist, deep learning, nlp, father of 4. YouTube: DataMike', 'url': 'https://t.co/3D9vQwDOtv', 'entities': {'url': {'urls': [{'url': 'https://t.co/3D9vQwDOtv', 'expanded_url': 'http://www.minimizeuncertainty.com', 'display_url': 'minimizeuncertainty.com', 'indices': [0, 23]}]}, 'description': {'urls': []}}, 'protected': False, 'followers_count': 42, 'friends_count': 89, 'listed_count': 1, 'created_at': 'Fri Oct 19 19:35:12 +0000 2018', 'favourites_count': 401, 'utc_offset': None, 'time_zone': None, 'geo_enabled': False, 'verified': False, 'statuses_count': 220, 'lang': None, 'contributors_enabled': False, 'is_translator': False, 'is_translation_enabled': False, 'profile_background_color': 'F5F8FA', 'profile_background_image_url': None, 'profile_background_image_url_https': None, 'profile_background_tile': False, 'profile_image_url': 'http://pbs.twimg.com/profile_images/1119819713507282944/geqYbAbR_normal.jpg', 'profile_image_url_https': 'https://pbs.twimg.com/profile_images/1119819713507282944/geqYbAbR_normal.jpg', 'profile_link_color': '1DA1F2', 'profile_sidebar_border_color': 'C0DEED', 'profile_sidebar_fill_color': 'DDEEF6', 'profile_text_color': '333333', 'profile_use_background_image': True, 'has_extended_profile': False, 'default_profile': True, 'default_profile_image': False, 'following': False, 'follow_request_sent': False, 'notifications': False, 'translator_type': 'none'}, 'geo': None, 'coordinates': None, 'place': None, 'contributors': None, 'is_quote_status': False, 'retweet_count': 0, 'favorite_count': 0, 'favorited': False, 'retweeted': False, 'possibly_sensitive': False, 'lang': 'en'}, created_at=datetime.datetime(2020, 8, 8, 20, 3, 23), id=1292189687184936960, id_str='1292189687184936960', text='Miles is 86.7% likely to be a Dog \\n #MilesIsDreaming https://t.co/CaITZxFxf7', truncated=False, entities={'hashtags': [{'text': 'MilesIsDreaming', 'indices': [36, 52]}], 'symbols': [], 'user_mentions': [], 'urls': [], 'media': [{'id': 1292189685704355840, 'id_str': '1292189685704355840', 'indices': [53, 76], 'media_url': 'http://pbs.twimg.com/media/Ee7HrD7U8AAIbaz.jpg', 'media_url_https': 'https://pbs.twimg.com/media/Ee7HrD7U8AAIbaz.jpg', 'url': 'https://t.co/CaITZxFxf7', 'display_url': 'pic.twitter.com/CaITZxFxf7', 'expanded_url': 'https://twitter.com/data_mike_j/status/1292189687184936960/photo/1', 'type': 'photo', 'sizes': {'thumb': {'w': 150, 'h': 150, 'resize': 'crop'}, 'medium': {'w': 1200, 'h': 900, 'resize': 'fit'}, 'large': {'w': 1200, 'h': 900, 'resize': 'fit'}, 'small': {'w': 680, 'h': 510, 'resize': 'fit'}}}]}, extended_entities={'media': [{'id': 1292189685704355840, 'id_str': '1292189685704355840', 'indices': [53, 76], 'media_url': 'http://pbs.twimg.com/media/Ee7HrD7U8AAIbaz.jpg', 'media_url_https': 'https://pbs.twimg.com/media/Ee7HrD7U8AAIbaz.jpg', 'url': 'https://t.co/CaITZxFxf7', 'display_url': 'pic.twitter.com/CaITZxFxf7', 'expanded_url': 'https://twitter.com/data_mike_j/status/1292189687184936960/photo/1', 'type': 'photo', 'sizes': {'thumb': {'w': 150, 'h': 150, 'resize': 'crop'}, 'medium': {'w': 1200, 'h': 900, 'resize': 'fit'}, 'large': {'w': 1200, 'h': 900, 'resize': 'fit'}, 'small': {'w': 680, 'h': 510, 'resize': 'fit'}}}]}, source='', source_url=None, in_reply_to_status_id=None, in_reply_to_status_id_str=None, in_reply_to_user_id=None, in_reply_to_user_id_str=None, in_reply_to_screen_name=None, author=User(_api=<tweepy.api.API object at 0x000001DFE6C446C8>, _json={'id': 1053368990695706624, 'id_str': '1053368990695706624', 'name': 'Michael Johnson', 'screen_name': 'data_mike_j', 'location': 'Colorado, USA', 'description': 'Lead Data Scientist, deep learning, nlp, father of 4. YouTube: DataMike', 'url': 'https://t.co/3D9vQwDOtv', 'entities': {'url': {'urls': [{'url': 'https://t.co/3D9vQwDOtv', 'expanded_url': 'http://www.minimizeuncertainty.com', 'display_url': 'minimizeuncertainty.com', 'indices': [0, 23]}]}, 'description': {'urls': []}}, 'protected': False, 'followers_count': 42, 'friends_count': 89, 'listed_count': 1, 'created_at': 'Fri Oct 19 19:35:12 +0000 2018', 'favourites_count': 401, 'utc_offset': None, 'time_zone': None, 'geo_enabled': False, 'verified': False, 'statuses_count': 220, 'lang': None, 'contributors_enabled': False, 'is_translator': False, 'is_translation_enabled': False, 'profile_background_color': 'F5F8FA', 'profile_background_image_url': None, 'profile_background_image_url_https': None, 'profile_background_tile': False, 'profile_image_url': 'http://pbs.twimg.com/profile_images/1119819713507282944/geqYbAbR_normal.jpg', 'profile_image_url_https': 'https://pbs.twimg.com/profile_images/1119819713507282944/geqYbAbR_normal.jpg', 'profile_link_color': '1DA1F2', 'profile_sidebar_border_color': 'C0DEED', 'profile_sidebar_fill_color': 'DDEEF6', 'profile_text_color': '333333', 'profile_use_background_image': True, 'has_extended_profile': False, 'default_profile': True, 'default_profile_image': False, 'following': False, 'follow_request_sent': False, 'notifications': False, 'translator_type': 'none'}, id=1053368990695706624, id_str='1053368990695706624', name='Michael Johnson', screen_name='data_mike_j', location='Colorado, USA', description='Lead Data Scientist, deep learning, nlp, father of 4. YouTube: DataMike', url='https://t.co/3D9vQwDOtv', entities={'url': {'urls': [{'url': 'https://t.co/3D9vQwDOtv', 'expanded_url': 'http://www.minimizeuncertainty.com', 'display_url': 'minimizeuncertainty.com', 'indices': [0, 23]}]}, 'description': {'urls': []}}, protected=False, followers_count=42, friends_count=89, listed_count=1, created_at=datetime.datetime(2018, 10, 19, 19, 35, 12), favourites_count=401, utc_offset=None, time_zone=None, geo_enabled=False, verified=False, statuses_count=220, lang=None, contributors_enabled=False, is_translator=False, is_translation_enabled=False, profile_background_color='F5F8FA', profile_background_image_url=None, profile_background_image_url_https=None, profile_background_tile=False, profile_image_url='http://pbs.twimg.com/profile_images/1119819713507282944/geqYbAbR_normal.jpg', profile_image_url_https='https://pbs.twimg.com/profile_images/1119819713507282944/geqYbAbR_normal.jpg', profile_link_color='1DA1F2', profile_sidebar_border_color='C0DEED', profile_sidebar_fill_color='DDEEF6', profile_text_color='333333', profile_use_background_image=True, has_extended_profile=False, default_profile=True, default_profile_image=False, following=False, follow_request_sent=False, notifications=False, translator_type='none'), user=User(_api=<tweepy.api.API object at 0x000001DFE6C446C8>, _json={'id': 1053368990695706624, 'id_str': '1053368990695706624', 'name': 'Michael Johnson', 'screen_name': 'data_mike_j', 'location': 'Colorado, USA', 'description': 'Lead Data Scientist, deep learning, nlp, father of 4. YouTube: DataMike', 'url': 'https://t.co/3D9vQwDOtv', 'entities': {'url': {'urls': [{'url': 'https://t.co/3D9vQwDOtv', 'expanded_url': 'http://www.minimizeuncertainty.com', 'display_url': 'minimizeuncertainty.com', 'indices': [0, 23]}]}, 'description': {'urls': []}}, 'protected': False, 'followers_count': 42, 'friends_count': 89, 'listed_count': 1, 'created_at': 'Fri Oct 19 19:35:12 +0000 2018', 'favourites_count': 401, 'utc_offset': None, 'time_zone': None, 'geo_enabled': False, 'verified': False, 'statuses_count': 220, 'lang': None, 'contributors_enabled': False, 'is_translator': False, 'is_translation_enabled': False, 'profile_background_color': 'F5F8FA', 'profile_background_image_url': None, 'profile_background_image_url_https': None, 'profile_background_tile': False, 'profile_image_url': 'http://pbs.twimg.com/profile_images/1119819713507282944/geqYbAbR_normal.jpg', 'profile_image_url_https': 'https://pbs.twimg.com/profile_images/1119819713507282944/geqYbAbR_normal.jpg', 'profile_link_color': '1DA1F2', 'profile_sidebar_border_color': 'C0DEED', 'profile_sidebar_fill_color': 'DDEEF6', 'profile_text_color': '333333', 'profile_use_background_image': True, 'has_extended_profile': False, 'default_profile': True, 'default_profile_image': False, 'following': False, 'follow_request_sent': False, 'notifications': False, 'translator_type': 'none'}, id=1053368990695706624, id_str='1053368990695706624', name='Michael Johnson', screen_name='data_mike_j', location='Colorado, USA', description='Lead Data Scientist, deep learning, nlp, father of 4. YouTube: DataMike', url='https://t.co/3D9vQwDOtv', entities={'url': {'urls': [{'url': 'https://t.co/3D9vQwDOtv', 'expanded_url': 'http://www.minimizeuncertainty.com', 'display_url': 'minimizeuncertainty.com', 'indices': [0, 23]}]}, 'description': {'urls': []}}, protected=False, followers_count=42, friends_count=89, listed_count=1, created_at=datetime.datetime(2018, 10, 19, 19, 35, 12), favourites_count=401, utc_offset=None, time_zone=None, geo_enabled=False, verified=False, statuses_count=220, lang=None, contributors_enabled=False, is_translator=False, is_translation_enabled=False, profile_background_color='F5F8FA', profile_background_image_url=None, profile_background_image_url_https=None, profile_background_tile=False, profile_image_url='http://pbs.twimg.com/profile_images/1119819713507282944/geqYbAbR_normal.jpg', profile_image_url_https='https://pbs.twimg.com/profile_images/1119819713507282944/geqYbAbR_normal.jpg', profile_link_color='1DA1F2', profile_sidebar_border_color='C0DEED', profile_sidebar_fill_color='DDEEF6', profile_text_color='333333', profile_use_background_image=True, has_extended_profile=False, default_profile=True, default_profile_image=False, following=False, follow_request_sent=False, notifications=False, translator_type='none'), geo=None, coordinates=None, place=None, contributors=None, is_quote_status=False, retweet_count=0, favorite_count=0, favorited=False, retweeted=False, possibly_sensitive=False, lang='en')"
      ]
     },
     "execution_count": 104,
     "metadata": {},
     "output_type": "execute_result"
    }
   ],
   "source": [
    "api.update_with_media(filename =tweet_file, status = status_text, in_reply_to_status_id = f'{aRow.iloc[0][\"tweet_id\"]}'   )"
   ]
  },
  {
   "cell_type": "code",
   "execution_count": 106,
   "metadata": {},
   "outputs": [
    {
     "data": {
      "text/html": [
       "<div>\n",
       "<style scoped>\n",
       "    .dataframe tbody tr th:only-of-type {\n",
       "        vertical-align: middle;\n",
       "    }\n",
       "\n",
       "    .dataframe tbody tr th {\n",
       "        vertical-align: top;\n",
       "    }\n",
       "\n",
       "    .dataframe thead th {\n",
       "        text-align: right;\n",
       "    }\n",
       "</style>\n",
       "<table border=\"1\" class=\"dataframe\">\n",
       "  <thead>\n",
       "    <tr style=\"text-align: right;\">\n",
       "      <th></th>\n",
       "      <th>file</th>\n",
       "      <th>tweet_id</th>\n",
       "      <th>f_name</th>\n",
       "      <th>prob_dog</th>\n",
       "    </tr>\n",
       "  </thead>\n",
       "  <tbody>\n",
       "    <tr>\n",
       "      <th>3</th>\n",
       "      <td>http://pbs.twimg.com/media/EeRO1VpWAAEH2Yz.jpg</td>\n",
       "      <td>1289242075188232193</td>\n",
       "      <td>EeRO1VpWAAEH2Yz.jpg</td>\n",
       "      <td>0.867306</td>\n",
       "    </tr>\n",
       "  </tbody>\n",
       "</table>\n",
       "</div>"
      ],
      "text/plain": [
       "                                             file             tweet_id  \\\n",
       "3  http://pbs.twimg.com/media/EeRO1VpWAAEH2Yz.jpg  1289242075188232193   \n",
       "\n",
       "                f_name  prob_dog  \n",
       "3  EeRO1VpWAAEH2Yz.jpg  0.867306  "
      ]
     },
     "execution_count": 106,
     "metadata": {},
     "output_type": "execute_result"
    }
   ],
   "source": [
    "pred_df[pred_df.tweet_id == aRow.iloc[0]['tweet_id']]"
   ]
  },
  {
   "cell_type": "code",
   "execution_count": 110,
   "metadata": {},
   "outputs": [],
   "source": [
    "tweeted = not_tweeted[not_tweeted.tweet_id == aRow.iloc[0]['tweet_id']][['tweet_id','tweeted']] "
   ]
  },
  {
   "cell_type": "code",
   "execution_count": 111,
   "metadata": {},
   "outputs": [
    {
     "data": {
      "text/html": [
       "<div>\n",
       "<style scoped>\n",
       "    .dataframe tbody tr th:only-of-type {\n",
       "        vertical-align: middle;\n",
       "    }\n",
       "\n",
       "    .dataframe tbody tr th {\n",
       "        vertical-align: top;\n",
       "    }\n",
       "\n",
       "    .dataframe thead th {\n",
       "        text-align: right;\n",
       "    }\n",
       "</style>\n",
       "<table border=\"1\" class=\"dataframe\">\n",
       "  <thead>\n",
       "    <tr style=\"text-align: right;\">\n",
       "      <th></th>\n",
       "      <th>tweet_id</th>\n",
       "      <th>tweeted</th>\n",
       "    </tr>\n",
       "  </thead>\n",
       "  <tbody>\n",
       "    <tr>\n",
       "      <th>3</th>\n",
       "      <td>1289242075188232193</td>\n",
       "      <td>NaN</td>\n",
       "    </tr>\n",
       "  </tbody>\n",
       "</table>\n",
       "</div>"
      ],
      "text/plain": [
       "              tweet_id  tweeted\n",
       "3  1289242075188232193      NaN"
      ]
     },
     "execution_count": 111,
     "metadata": {},
     "output_type": "execute_result"
    }
   ],
   "source": [
    "tweeted"
   ]
  },
  {
   "cell_type": "code",
   "execution_count": 113,
   "metadata": {},
   "outputs": [],
   "source": [
    "tweeted['tweeted'] = 1"
   ]
  },
  {
   "cell_type": "code",
   "execution_count": 114,
   "metadata": {},
   "outputs": [],
   "source": [
    "tweeted.to_csv('registry/tweeted.csv', mode = 'a',index = False,header = False)"
   ]
  },
  {
   "cell_type": "code",
   "execution_count": 77,
   "metadata": {},
   "outputs": [
    {
     "data": {
      "text/html": [
       "<div>\n",
       "<style scoped>\n",
       "    .dataframe tbody tr th:only-of-type {\n",
       "        vertical-align: middle;\n",
       "    }\n",
       "\n",
       "    .dataframe tbody tr th {\n",
       "        vertical-align: top;\n",
       "    }\n",
       "\n",
       "    .dataframe thead th {\n",
       "        text-align: right;\n",
       "    }\n",
       "</style>\n",
       "<table border=\"1\" class=\"dataframe\">\n",
       "  <thead>\n",
       "    <tr style=\"text-align: right;\">\n",
       "      <th></th>\n",
       "      <th>file</th>\n",
       "      <th>tweet_id</th>\n",
       "      <th>f_name</th>\n",
       "      <th>prob_dog</th>\n",
       "      <th>tweeted</th>\n",
       "    </tr>\n",
       "  </thead>\n",
       "  <tbody>\n",
       "    <tr>\n",
       "      <th>0</th>\n",
       "      <td>http://pbs.twimg.com/media/EewRBbzXkAAsDew.jpg</td>\n",
       "      <td>1291425914241327104</td>\n",
       "      <td>EewRBbzXkAAsDew.jpg</td>\n",
       "      <td>0.655863</td>\n",
       "      <td>1</td>\n",
       "    </tr>\n",
       "  </tbody>\n",
       "</table>\n",
       "</div>"
      ],
      "text/plain": [
       "                                             file             tweet_id  \\\n",
       "0  http://pbs.twimg.com/media/EewRBbzXkAAsDew.jpg  1291425914241327104   \n",
       "\n",
       "                f_name  prob_dog  tweeted  \n",
       "0  EewRBbzXkAAsDew.jpg  0.655863        1  "
      ]
     },
     "execution_count": 77,
     "metadata": {},
     "output_type": "execute_result"
    }
   ],
   "source": [
    "tweeted"
   ]
  },
  {
   "cell_type": "code",
   "execution_count": 80,
   "metadata": {},
   "outputs": [
    {
     "data": {
      "text/html": [
       "<div>\n",
       "<style scoped>\n",
       "    .dataframe tbody tr th:only-of-type {\n",
       "        vertical-align: middle;\n",
       "    }\n",
       "\n",
       "    .dataframe tbody tr th {\n",
       "        vertical-align: top;\n",
       "    }\n",
       "\n",
       "    .dataframe thead th {\n",
       "        text-align: right;\n",
       "    }\n",
       "</style>\n",
       "<table border=\"1\" class=\"dataframe\">\n",
       "  <thead>\n",
       "    <tr style=\"text-align: right;\">\n",
       "      <th></th>\n",
       "      <th>tweet_id</th>\n",
       "      <th>tweeted</th>\n",
       "      <th>f_name</th>\n",
       "    </tr>\n",
       "  </thead>\n",
       "  <tbody>\n",
       "    <tr>\n",
       "      <th>0</th>\n",
       "      <td>1291425914241327104</td>\n",
       "      <td>1</td>\n",
       "      <td>EewRBbzXkAAsDew.jpg</td>\n",
       "    </tr>\n",
       "  </tbody>\n",
       "</table>\n",
       "</div>"
      ],
      "text/plain": [
       "              tweet_id  tweeted               f_name\n",
       "0  1291425914241327104        1  EewRBbzXkAAsDew.jpg"
      ]
     },
     "execution_count": 80,
     "metadata": {},
     "output_type": "execute_result"
    }
   ],
   "source": [
    "tweeted2 = pd.read_csv(tweet_file)"
   ]
  },
  {
   "cell_type": "code",
   "execution_count": 88,
   "metadata": {},
   "outputs": [],
   "source": [
    "tweeted_mini.to_csv('registry/tweeted2.csv', index = False)"
   ]
  },
  {
   "cell_type": "code",
   "execution_count": 125,
   "metadata": {},
   "outputs": [],
   "source": [
    "tweeted = pd.read_csv('registry/tweeted.csv')"
   ]
  },
  {
   "cell_type": "code",
   "execution_count": 124,
   "metadata": {},
   "outputs": [],
   "source": [
    "tweeted[tweeted.tweeted=='1'].to_csv('registry/tweeted.csv',index = False)"
   ]
  },
  {
   "cell_type": "code",
   "execution_count": 123,
   "metadata": {},
   "outputs": [
    {
     "data": {
      "text/html": [
       "<div>\n",
       "<style scoped>\n",
       "    .dataframe tbody tr th:only-of-type {\n",
       "        vertical-align: middle;\n",
       "    }\n",
       "\n",
       "    .dataframe tbody tr th {\n",
       "        vertical-align: top;\n",
       "    }\n",
       "\n",
       "    .dataframe thead th {\n",
       "        text-align: right;\n",
       "    }\n",
       "</style>\n",
       "<table border=\"1\" class=\"dataframe\">\n",
       "  <thead>\n",
       "    <tr style=\"text-align: right;\">\n",
       "      <th></th>\n",
       "      <th>tweet_id</th>\n",
       "      <th>tweeted</th>\n",
       "    </tr>\n",
       "  </thead>\n",
       "  <tbody>\n",
       "    <tr>\n",
       "      <th>0</th>\n",
       "      <td>1291425914241327104</td>\n",
       "      <td>1</td>\n",
       "    </tr>\n",
       "    <tr>\n",
       "      <th>1</th>\n",
       "      <td>1289242075188232193</td>\n",
       "      <td>1</td>\n",
       "    </tr>\n",
       "  </tbody>\n",
       "</table>\n",
       "</div>"
      ],
      "text/plain": [
       "              tweet_id  tweeted\n",
       "0  1291425914241327104        1\n",
       "1  1289242075188232193        1"
      ]
     },
     "execution_count": 123,
     "metadata": {},
     "output_type": "execute_result"
    }
   ],
   "source": [
    "tweeted.to"
   ]
  },
  {
   "cell_type": "code",
   "execution_count": null,
   "metadata": {},
   "outputs": [],
   "source": []
  }
 ],
 "metadata": {
  "kernelspec": {
   "display_name": "Python 3",
   "language": "python",
   "name": "python3"
  },
  "language_info": {
   "codemirror_mode": {
    "name": "ipython",
    "version": 3
   },
   "file_extension": ".py",
   "mimetype": "text/x-python",
   "name": "python",
   "nbconvert_exporter": "python",
   "pygments_lexer": "ipython3",
   "version": "3.6.5"
  }
 },
 "nbformat": 4,
 "nbformat_minor": 4
}
