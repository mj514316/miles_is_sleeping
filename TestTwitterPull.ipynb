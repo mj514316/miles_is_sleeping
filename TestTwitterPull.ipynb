{
 "cells": [
  {
   "cell_type": "code",
   "execution_count": 5,
   "metadata": {},
   "outputs": [
    {
     "name": "stdout",
     "output_type": "stream",
     "text": [
      "The autoreload extension is already loaded. To reload it, use:\n",
      "  %reload_ext autoreload\n"
     ]
    }
   ],
   "source": [
    "%load_ext autoreload\n",
    "%autoreload 2\n",
    "import tweepy\n",
    "import pandas as pd\n",
    "import wget\n",
    "from miles_utils import getMilesTweets, authorize_twitter\n",
    "import os"
   ]
  },
  {
   "cell_type": "code",
   "execution_count": 9,
   "metadata": {},
   "outputs": [
    {
     "ename": "TweepError",
     "evalue": "[{'code': 89, 'message': 'Invalid or expired token.'}]",
     "output_type": "error",
     "traceback": [
      "\u001b[1;31m---------------------------------------------------------------------------\u001b[0m",
      "\u001b[1;31mTweepError\u001b[0m                                Traceback (most recent call last)",
      "\u001b[1;32m<ipython-input-9-7576307b12c4>\u001b[0m in \u001b[0;36m<module>\u001b[1;34m()\u001b[0m\n\u001b[0;32m      1\u001b[0m \u001b[0mapi\u001b[0m \u001b[1;33m=\u001b[0m \u001b[0mauthorize_twitter\u001b[0m\u001b[1;33m(\u001b[0m\u001b[1;33m)\u001b[0m\u001b[1;33m\u001b[0m\u001b[0m\n\u001b[1;32m----> 2\u001b[1;33m \u001b[0mtimeline\u001b[0m \u001b[1;33m=\u001b[0m \u001b[0mapi\u001b[0m\u001b[1;33m.\u001b[0m\u001b[0muser_timeline\u001b[0m\u001b[1;33m(\u001b[0m\u001b[0mscreen_name\u001b[0m\u001b[1;33m=\u001b[0m\u001b[1;34m'@MilesSleeping'\u001b[0m\u001b[1;33m)\u001b[0m\u001b[1;33m\u001b[0m\u001b[0m\n\u001b[0m",
      "\u001b[1;32mC:\\Users\\mj514\\Anaconda3\\lib\\site-packages\\tweepy\\binder.py\u001b[0m in \u001b[0;36m_call\u001b[1;34m(*args, **kwargs)\u001b[0m\n\u001b[0;32m    250\u001b[0m                 \u001b[1;32mreturn\u001b[0m \u001b[0mmethod\u001b[0m\u001b[1;33m\u001b[0m\u001b[0m\n\u001b[0;32m    251\u001b[0m             \u001b[1;32melse\u001b[0m\u001b[1;33m:\u001b[0m\u001b[1;33m\u001b[0m\u001b[0m\n\u001b[1;32m--> 252\u001b[1;33m                 \u001b[1;32mreturn\u001b[0m \u001b[0mmethod\u001b[0m\u001b[1;33m.\u001b[0m\u001b[0mexecute\u001b[0m\u001b[1;33m(\u001b[0m\u001b[1;33m)\u001b[0m\u001b[1;33m\u001b[0m\u001b[0m\n\u001b[0m\u001b[0;32m    253\u001b[0m         \u001b[1;32mfinally\u001b[0m\u001b[1;33m:\u001b[0m\u001b[1;33m\u001b[0m\u001b[0m\n\u001b[0;32m    254\u001b[0m             \u001b[0mmethod\u001b[0m\u001b[1;33m.\u001b[0m\u001b[0msession\u001b[0m\u001b[1;33m.\u001b[0m\u001b[0mclose\u001b[0m\u001b[1;33m(\u001b[0m\u001b[1;33m)\u001b[0m\u001b[1;33m\u001b[0m\u001b[0m\n",
      "\u001b[1;32mC:\\Users\\mj514\\Anaconda3\\lib\\site-packages\\tweepy\\binder.py\u001b[0m in \u001b[0;36mexecute\u001b[1;34m(self)\u001b[0m\n\u001b[0;32m    232\u001b[0m                     \u001b[1;32mraise\u001b[0m \u001b[0mRateLimitError\u001b[0m\u001b[1;33m(\u001b[0m\u001b[0merror_msg\u001b[0m\u001b[1;33m,\u001b[0m \u001b[0mresp\u001b[0m\u001b[1;33m)\u001b[0m\u001b[1;33m\u001b[0m\u001b[0m\n\u001b[0;32m    233\u001b[0m                 \u001b[1;32melse\u001b[0m\u001b[1;33m:\u001b[0m\u001b[1;33m\u001b[0m\u001b[0m\n\u001b[1;32m--> 234\u001b[1;33m                     \u001b[1;32mraise\u001b[0m \u001b[0mTweepError\u001b[0m\u001b[1;33m(\u001b[0m\u001b[0merror_msg\u001b[0m\u001b[1;33m,\u001b[0m \u001b[0mresp\u001b[0m\u001b[1;33m,\u001b[0m \u001b[0mapi_code\u001b[0m\u001b[1;33m=\u001b[0m\u001b[0mapi_error_code\u001b[0m\u001b[1;33m)\u001b[0m\u001b[1;33m\u001b[0m\u001b[0m\n\u001b[0m\u001b[0;32m    235\u001b[0m \u001b[1;33m\u001b[0m\u001b[0m\n\u001b[0;32m    236\u001b[0m             \u001b[1;31m# Parse the response payload\u001b[0m\u001b[1;33m\u001b[0m\u001b[1;33m\u001b[0m\u001b[0m\n",
      "\u001b[1;31mTweepError\u001b[0m: [{'code': 89, 'message': 'Invalid or expired token.'}]"
     ]
    }
   ],
   "source": [
    "api = authorize_twitter()\n",
    "timeline = api.user_timeline(screen_name='@MilesSleeping')"
   ]
  },
  {
   "cell_type": "code",
   "execution_count": null,
   "metadata": {},
   "outputs": [],
   "source": [
    "api.get"
   ]
  },
  {
   "cell_type": "code",
   "execution_count": 4,
   "metadata": {},
   "outputs": [
    {
     "ename": "TweepError",
     "evalue": "[{'code': 89, 'message': 'Invalid or expired token.'}]",
     "output_type": "error",
     "traceback": [
      "\u001b[1;31m---------------------------------------------------------------------------\u001b[0m",
      "\u001b[1;31mTweepError\u001b[0m                                Traceback (most recent call last)",
      "\u001b[1;32m<ipython-input-4-6109adafcb37>\u001b[0m in \u001b[0;36m<module>\u001b[1;34m()\u001b[0m\n\u001b[1;32m----> 1\u001b[1;33m \u001b[0mgetMilesTweets\u001b[0m\u001b[1;33m(\u001b[0m\u001b[1;33m)\u001b[0m\u001b[1;33m\u001b[0m\u001b[0m\n\u001b[0m",
      "\u001b[1;32mC:\\Users\\mj514\\Documents\\Miles_is_sleeping\\miles_utils.py\u001b[0m in \u001b[0;36mgetMilesTweets\u001b[1;34m(dest_folder, registry)\u001b[0m\n\u001b[0;32m     20\u001b[0m \u001b[1;33m\u001b[0m\u001b[0m\n\u001b[0;32m     21\u001b[0m     \u001b[0mapi\u001b[0m \u001b[1;33m=\u001b[0m \u001b[0mauthorize_twitter\u001b[0m\u001b[1;33m(\u001b[0m\u001b[1;33m)\u001b[0m\u001b[1;33m\u001b[0m\u001b[0m\n\u001b[1;32m---> 22\u001b[1;33m     \u001b[0mtimeline\u001b[0m \u001b[1;33m=\u001b[0m \u001b[0mapi\u001b[0m\u001b[1;33m.\u001b[0m\u001b[0muser_timeline\u001b[0m\u001b[1;33m(\u001b[0m\u001b[0mscreen_name\u001b[0m\u001b[1;33m=\u001b[0m\u001b[1;34m'@MilesSleeping'\u001b[0m\u001b[1;33m)\u001b[0m\u001b[1;33m\u001b[0m\u001b[0m\n\u001b[0m\u001b[0;32m     23\u001b[0m \u001b[1;33m\u001b[0m\u001b[0m\n\u001b[0;32m     24\u001b[0m     \u001b[0mregistryDF\u001b[0m \u001b[1;33m=\u001b[0m \u001b[0mpd\u001b[0m\u001b[1;33m.\u001b[0m\u001b[0mread_csv\u001b[0m\u001b[1;33m(\u001b[0m\u001b[0mregistry\u001b[0m\u001b[1;33m)\u001b[0m\u001b[1;33m\u001b[0m\u001b[0m\n",
      "\u001b[1;32mC:\\Users\\mj514\\Anaconda3\\lib\\site-packages\\tweepy\\binder.py\u001b[0m in \u001b[0;36m_call\u001b[1;34m(*args, **kwargs)\u001b[0m\n\u001b[0;32m    250\u001b[0m                 \u001b[1;32mreturn\u001b[0m \u001b[0mmethod\u001b[0m\u001b[1;33m\u001b[0m\u001b[0m\n\u001b[0;32m    251\u001b[0m             \u001b[1;32melse\u001b[0m\u001b[1;33m:\u001b[0m\u001b[1;33m\u001b[0m\u001b[0m\n\u001b[1;32m--> 252\u001b[1;33m                 \u001b[1;32mreturn\u001b[0m \u001b[0mmethod\u001b[0m\u001b[1;33m.\u001b[0m\u001b[0mexecute\u001b[0m\u001b[1;33m(\u001b[0m\u001b[1;33m)\u001b[0m\u001b[1;33m\u001b[0m\u001b[0m\n\u001b[0m\u001b[0;32m    253\u001b[0m         \u001b[1;32mfinally\u001b[0m\u001b[1;33m:\u001b[0m\u001b[1;33m\u001b[0m\u001b[0m\n\u001b[0;32m    254\u001b[0m             \u001b[0mmethod\u001b[0m\u001b[1;33m.\u001b[0m\u001b[0msession\u001b[0m\u001b[1;33m.\u001b[0m\u001b[0mclose\u001b[0m\u001b[1;33m(\u001b[0m\u001b[1;33m)\u001b[0m\u001b[1;33m\u001b[0m\u001b[0m\n",
      "\u001b[1;32mC:\\Users\\mj514\\Anaconda3\\lib\\site-packages\\tweepy\\binder.py\u001b[0m in \u001b[0;36mexecute\u001b[1;34m(self)\u001b[0m\n\u001b[0;32m    232\u001b[0m                     \u001b[1;32mraise\u001b[0m \u001b[0mRateLimitError\u001b[0m\u001b[1;33m(\u001b[0m\u001b[0merror_msg\u001b[0m\u001b[1;33m,\u001b[0m \u001b[0mresp\u001b[0m\u001b[1;33m)\u001b[0m\u001b[1;33m\u001b[0m\u001b[0m\n\u001b[0;32m    233\u001b[0m                 \u001b[1;32melse\u001b[0m\u001b[1;33m:\u001b[0m\u001b[1;33m\u001b[0m\u001b[0m\n\u001b[1;32m--> 234\u001b[1;33m                     \u001b[1;32mraise\u001b[0m \u001b[0mTweepError\u001b[0m\u001b[1;33m(\u001b[0m\u001b[0merror_msg\u001b[0m\u001b[1;33m,\u001b[0m \u001b[0mresp\u001b[0m\u001b[1;33m,\u001b[0m \u001b[0mapi_code\u001b[0m\u001b[1;33m=\u001b[0m\u001b[0mapi_error_code\u001b[0m\u001b[1;33m)\u001b[0m\u001b[1;33m\u001b[0m\u001b[0m\n\u001b[0m\u001b[0;32m    235\u001b[0m \u001b[1;33m\u001b[0m\u001b[0m\n\u001b[0;32m    236\u001b[0m             \u001b[1;31m# Parse the response payload\u001b[0m\u001b[1;33m\u001b[0m\u001b[1;33m\u001b[0m\u001b[0m\n",
      "\u001b[1;31mTweepError\u001b[0m: [{'code': 89, 'message': 'Invalid or expired token.'}]"
     ]
    }
   ],
   "source": [
    "getMilesTweets()"
   ]
  },
  {
   "cell_type": "code",
   "execution_count": 123,
   "metadata": {},
   "outputs": [],
   "source": [
    "import sys\n",
    "import os\n",
    "sys.path.append(\"fast-style-transfer/\")\n",
    "sys.path.append(\"fast-style-transfer/src\")\n",
    "from evaluate import ffwd_different_dimensions, ffwd\n",
    "import random\n"
   ]
  },
  {
   "cell_type": "code",
   "execution_count": 124,
   "metadata": {},
   "outputs": [],
   "source": [
    "from src.utils import list_files"
   ]
  },
  {
   "cell_type": "code",
   "execution_count": 125,
   "metadata": {},
   "outputs": [],
   "source": []
  },
  {
   "cell_type": "code",
   "execution_count": 126,
   "metadata": {},
   "outputs": [],
   "source": [
    "in_path = 'images/'\n",
    "out_path = 'processed_images/'\n",
    "checkpoint_path = 'checkpoints'\n",
    "allow_different_dimensions = True\n",
    "batch_size = 1\n",
    "device = '/gpu:0'"
   ]
  },
  {
   "cell_type": "code",
   "execution_count": 130,
   "metadata": {},
   "outputs": [
    {
     "name": "stdout",
     "output_type": "stream",
     "text": [
      "('images/Eef8-H2XYAIEVxt.jpg', 'processed_images/Eef8-H2XYAIEVxt.jpg', 'checkpoints/udnie.ckpt')\n",
      "Processing images of shape 1200x900x3\n",
      "INFO:tensorflow:Restoring parameters from checkpoints/udnie.ckpt\n",
      "('images/EegCsZqWkAcdnIl.jpg', 'processed_images/EegCsZqWkAcdnIl.jpg', 'checkpoints/scream.ckpt')\n",
      "Processing images of shape 900x1200x3\n",
      "INFO:tensorflow:Restoring parameters from checkpoints/scream.ckpt\n",
      "('images/EegdCl0WsAIiW8D.jpg', 'processed_images/EegdCl0WsAIiW8D.jpg', 'checkpoints/rain_princess.ckpt')\n",
      "Processing images of shape 900x1200x3\n",
      "INFO:tensorflow:Restoring parameters from checkpoints/rain_princess.ckpt\n",
      "('images/EegeMyqWAAgIOzb.jpg', 'processed_images/EegeMyqWAAgIOzb.jpg', 'checkpoints/la_muse.ckpt')\n",
      "Processing images of shape 882x662x3\n",
      "INFO:tensorflow:Restoring parameters from checkpoints/la_muse.ckpt\n",
      "('images/EegsucqWsAEnDSi.jpg', 'processed_images/EegsucqWsAEnDSi.jpg', 'checkpoints/la_muse.ckpt')\n",
      "Processing images of shape 900x1200x3\n",
      "INFO:tensorflow:Restoring parameters from checkpoints/la_muse.ckpt\n",
      "('images/EeLd-3AXYAA3dsP.jpg', 'processed_images/EeLd-3AXYAA3dsP.jpg', 'checkpoints/scream.ckpt')\n",
      "Processing images of shape 900x1200x3\n",
      "INFO:tensorflow:Restoring parameters from checkpoints/scream.ckpt\n",
      "('images/EelOPbfXsAEzTAh.jpg', 'processed_images/EelOPbfXsAEzTAh.jpg', 'checkpoints/rain_princess.ckpt')\n",
      "Processing images of shape 900x1200x3\n",
      "INFO:tensorflow:Restoring parameters from checkpoints/rain_princess.ckpt\n",
      "('images/EeLu0qvXoAAjJKn.jpg', 'processed_images/EeLu0qvXoAAjJKn.jpg', 'checkpoints/rain_princess.ckpt')\n",
      "Processing images of shape 900x1200x3\n",
      "INFO:tensorflow:Restoring parameters from checkpoints/rain_princess.ckpt\n",
      "('images/EeMpAYCWkAElN3a.jpg', 'processed_images/EeMpAYCWkAElN3a.jpg', 'checkpoints/rain_princess.ckpt')\n",
      "Processing images of shape 900x1200x3\n",
      "INFO:tensorflow:Restoring parameters from checkpoints/rain_princess.ckpt\n",
      "('images/EeoOv6IU4AEHUDz.jpg', 'processed_images/EeoOv6IU4AEHUDz.jpg', 'checkpoints/la_muse.ckpt')\n",
      "Processing images of shape 900x1200x3\n",
      "INFO:tensorflow:Restoring parameters from checkpoints/la_muse.ckpt\n",
      "('images/EeqdtzCWsAAjj1b.jpg', 'processed_images/EeqdtzCWsAAjj1b.jpg', 'checkpoints/udnie.ckpt')\n",
      "Processing images of shape 1200x900x3\n",
      "INFO:tensorflow:Restoring parameters from checkpoints/udnie.ckpt\n",
      "('images/EeQqTuYWkAIkJjm.jpg', 'processed_images/EeQqTuYWkAIkJjm.jpg', 'checkpoints/udnie.ckpt')\n",
      "Processing images of shape 900x1200x3\n",
      "INFO:tensorflow:Restoring parameters from checkpoints/udnie.ckpt\n",
      "('images/EeR86LpX0AA1quY.jpg', 'processed_images/EeR86LpX0AA1quY.jpg', 'checkpoints/wreck.ckpt')\n",
      "Processing images of shape 1200x900x3\n",
      "INFO:tensorflow:Restoring parameters from checkpoints/wreck.ckpt\n",
      "('images/EeRO1VpWAAEH2Yz.jpg', 'processed_images/EeRO1VpWAAEH2Yz.jpg', 'checkpoints/wreck.ckpt')\n",
      "Processing images of shape 900x1200x3\n",
      "INFO:tensorflow:Restoring parameters from checkpoints/wreck.ckpt\n",
      "('images/EeTNcugWsAAezq3.jpg', 'processed_images/EeTNcugWsAAezq3.jpg', 'checkpoints/rain_princess.ckpt')\n",
      "Processing images of shape 900x1200x3\n",
      "INFO:tensorflow:Restoring parameters from checkpoints/rain_princess.ckpt\n",
      "('images/EeVtQQoX0AU0pli.jpg', 'processed_images/EeVtQQoX0AU0pli.jpg', 'checkpoints/la_muse.ckpt')\n",
      "Processing images of shape 900x1200x3\n",
      "INFO:tensorflow:Restoring parameters from checkpoints/la_muse.ckpt\n",
      "('images/EeVy9v4WoAA4V0w.jpg', 'processed_images/EeVy9v4WoAA4V0w.jpg', 'checkpoints/rain_princess.ckpt')\n",
      "Processing images of shape 900x1200x3\n",
      "INFO:tensorflow:Restoring parameters from checkpoints/rain_princess.ckpt\n",
      "('images/EewRBbzXkAAsDew.jpg', 'processed_images/EewRBbzXkAAsDew.jpg', 'checkpoints/wave.ckpt')\n",
      "Processing images of shape 900x1200x3\n",
      "INFO:tensorflow:Restoring parameters from checkpoints/wave.ckpt\n",
      "('images/EeyBAI0WAAICJnS.jpg', 'processed_images/EeyBAI0WAAICJnS.jpg', 'checkpoints/wave.ckpt')\n",
      "Processing images of shape 900x1200x3\n",
      "INFO:tensorflow:Restoring parameters from checkpoints/wave.ckpt\n",
      "('images/EeYE13sXkAA2Z2s.jpg', 'processed_images/EeYE13sXkAA2Z2s.jpg', 'checkpoints/wreck.ckpt')\n",
      "Processing images of shape 900x1200x3\n",
      "INFO:tensorflow:Restoring parameters from checkpoints/wreck.ckpt\n"
     ]
    }
   ],
   "source": [
    "def random_style_transfer(in_path = 'images/', out_path = 'processed_images/', checkpoint_path = 'checkpoints', allow_different_dimensions = True, batch_size = 1, device = '/gpu:0'):\n",
    "    checkpoints = list_files(checkpoint_path)\n",
    "    files = [fname for fname in list_files(in_path) if fname not in list_files('processed_images/')]\n",
    "    fullprocess = [(os.path.join(in_path,x),os.path.join(out_path,x),f'{checkpoint_path}/{random.sample(checkpoints,1)[0]}') for x in files]\n",
    "    for tup in fullprocess:\n",
    "        print(tup)\n",
    "        if allow_different_dimensions:\n",
    "            ffwd_different_dimensions([tup[0]], [tup[1]], tup[2], \n",
    "                    device_t=device, batch_size=batch_size)\n",
    "        else :\n",
    "            ffwd(full_in, full_out, opts.checkpoint_dir, device_t=opts.device,\n",
    "                    batch_size=batch_size)"
   ]
  }
 ],
 "metadata": {
  "kernelspec": {
   "display_name": "Python 3",
   "language": "python",
   "name": "python3"
  },
  "language_info": {
   "codemirror_mode": {
    "name": "ipython",
    "version": 3
   },
   "file_extension": ".py",
   "mimetype": "text/x-python",
   "name": "python",
   "nbconvert_exporter": "python",
   "pygments_lexer": "ipython3",
   "version": "3.6.5"
  }
 },
 "nbformat": 4,
 "nbformat_minor": 4
}
