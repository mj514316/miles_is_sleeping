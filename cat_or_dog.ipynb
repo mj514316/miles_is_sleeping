{
 "cells": [
  {
   "cell_type": "code",
   "execution_count": 1,
   "metadata": {},
   "outputs": [
    {
     "name": "stderr",
     "output_type": "stream",
     "text": [
      "C:\\Users\\mj514\\Anaconda3\\envs\\fastAI2\\lib\\site-packages\\torch\\nn\\functional.py:3000: UserWarning: The default behavior for interpolate/upsample with float scale_factor changed in 1.6.0 to align with other frameworks/libraries, and uses scale_factor directly, instead of relying on the computed output size. If you wish to keep the old behavior, please set recompute_scale_factor=True. See the documentation of nn.Upsample for details. \n",
      "  warnings.warn(\"The default behavior for interpolate/upsample with float scale_factor changed \"\n"
     ]
    },
    {
     "data": {
      "text/html": [],
      "text/plain": [
       "<IPython.core.display.HTML object>"
      ]
     },
     "metadata": {},
     "output_type": "display_data"
    }
   ],
   "source": [
    "import pandas as pd\n",
    "\n",
    "from fastai.vision import untar_data, ImageDataBunch, cnn_learner, accuracy, URLs, get_transforms, imagenet_stats,models\n",
    "from fastai.vision import load_learner, ImageList, DatasetType\n",
    "from os import listdir\n",
    "\n",
    "def get_file(aString):\n",
    "    return str(aString.split('/')[-1])\n",
    "\n",
    "image_folder = 'images/'\n",
    "\n",
    "path = untar_data(URLs.DOGS)\n",
    "learn = load_learner(path, test=ImageList.from_folder(image_folder), bs = 1)\n",
    "preds,y = learn.get_preds(ds_type=DatasetType.Test)\n",
    "predList = list(preds.numpy()[:,0])\n",
    "\n",
    "f_names = listdir(image_folder)\n",
    "\n",
    "pred_df = pd.DataFrame(list(zip(f_names,predList)), columns = ['f_name','prob_dog'])\n",
    "\n",
    "registry = 'registry/downloaded_files.csv'\n",
    "regDF = pd.read_csv(registry)\n",
    "\n",
    "\n",
    "regDF['f_name'] = regDF.file.apply(get_file)\n",
    "\n",
    "out_df = pd.merge(regDF,pred_df, on = ['f_name'])\n",
    "\n",
    "out_df.to_csv(f'registry/cat_dog_pred.csv', index = False)"
   ]
  }
 ],
 "metadata": {
  "kernelspec": {
   "display_name": "fastAI2_2",
   "language": "python",
   "name": "fastai2_2"
  },
  "language_info": {
   "codemirror_mode": {
    "name": "ipython",
    "version": 3
   },
   "file_extension": ".py",
   "mimetype": "text/x-python",
   "name": "python",
   "nbconvert_exporter": "python",
   "pygments_lexer": "ipython3",
   "version": "3.8.5"
  }
 },
 "nbformat": 4,
 "nbformat_minor": 2
}
